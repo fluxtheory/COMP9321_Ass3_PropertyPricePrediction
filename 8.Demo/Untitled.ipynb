{
 "cells": [
  {
   "cell_type": "code",
   "execution_count": 1,
   "metadata": {
    "collapsed": true
   },
   "outputs": [],
   "source": [
    "import pandas as pd"
   ]
  },
  {
   "cell_type": "code",
   "execution_count": 57,
   "metadata": {
    "collapsed": true
   },
   "outputs": [],
   "source": [
    "fullcsv = pd.read_csv('Full.csv')"
   ]
  },
  {
   "cell_type": "code",
   "execution_count": 53,
   "metadata": {},
   "outputs": [
    {
     "data": {
      "text/plain": [
       "Index(['Suburb', 'Address', 'Rooms', 'Type', 'Price', 'Method', 'SellerG',\n",
       "       'Date', 'Distance', 'Postcode', 'Bedroom2', 'Bathroom', 'Car',\n",
       "       'Landsize', 'BuildingArea', 'YearBuilt', 'CouncilArea', 'Lattitude',\n",
       "       'Longtitude', 'Regionname', 'Propertycount'],\n",
       "      dtype='object')"
      ]
     },
     "execution_count": 53,
     "metadata": {},
     "output_type": "execute_result"
    }
   ],
   "source": [
    "fullcsv.columns"
   ]
  },
  {
   "cell_type": "code",
   "execution_count": 58,
   "metadata": {},
   "outputs": [
    {
     "data": {
      "text/plain": [
       "1224"
      ]
     },
     "execution_count": 58,
     "metadata": {},
     "output_type": "execute_result"
    }
   ],
   "source": [
    "newcsv = fullcsv[['Address', 'Rooms', 'Landsize', 'Type', 'Price']]\n",
    "newcsv = newcsv[newcsv['Price'] < 110_0000]\n",
    "newcsv = newcsv[newcsv['Price'] > 100_0000]\n",
    "newcsv = newcsv.reset_index(drop = True)\n",
    "newcsv.shape[0]"
   ]
  },
  {
   "cell_type": "code",
   "execution_count": 55,
   "metadata": {},
   "outputs": [
    {
     "data": {
      "text/html": [
       "<div>\n",
       "<style scoped>\n",
       "    .dataframe tbody tr th:only-of-type {\n",
       "        vertical-align: middle;\n",
       "    }\n",
       "\n",
       "    .dataframe tbody tr th {\n",
       "        vertical-align: top;\n",
       "    }\n",
       "\n",
       "    .dataframe thead th {\n",
       "        text-align: right;\n",
       "    }\n",
       "</style>\n",
       "<table border=\"1\" class=\"dataframe\">\n",
       "  <thead>\n",
       "    <tr style=\"text-align: right;\">\n",
       "      <th></th>\n",
       "      <th>Address</th>\n",
       "      <th>Rooms</th>\n",
       "      <th>Landsize</th>\n",
       "      <th>Type</th>\n",
       "      <th>Price</th>\n",
       "    </tr>\n",
       "  </thead>\n",
       "  <tbody>\n",
       "    <tr>\n",
       "      <th>0</th>\n",
       "      <td>25 Bloomburg St</td>\n",
       "      <td>2</td>\n",
       "      <td>156.0</td>\n",
       "      <td>h</td>\n",
       "      <td>1035000.0</td>\n",
       "    </tr>\n",
       "    <tr>\n",
       "      <th>1</th>\n",
       "      <td>10 Valiant St</td>\n",
       "      <td>2</td>\n",
       "      <td>220.0</td>\n",
       "      <td>h</td>\n",
       "      <td>1097000.0</td>\n",
       "    </tr>\n",
       "    <tr>\n",
       "      <th>2</th>\n",
       "      <td>138/56 Nicholson St</td>\n",
       "      <td>3</td>\n",
       "      <td>4290.0</td>\n",
       "      <td>u</td>\n",
       "      <td>1090000.0</td>\n",
       "    </tr>\n",
       "    <tr>\n",
       "      <th>3</th>\n",
       "      <td>200 Nicholson St</td>\n",
       "      <td>2</td>\n",
       "      <td>182.0</td>\n",
       "      <td>h</td>\n",
       "      <td>1012500.0</td>\n",
       "    </tr>\n",
       "    <tr>\n",
       "      <th>4</th>\n",
       "      <td>27 Charles St</td>\n",
       "      <td>2</td>\n",
       "      <td>172.0</td>\n",
       "      <td>h</td>\n",
       "      <td>1030000.0</td>\n",
       "    </tr>\n",
       "  </tbody>\n",
       "</table>\n",
       "</div>"
      ],
      "text/plain": [
       "               Address  Rooms  Landsize Type      Price\n",
       "0      25 Bloomburg St      2     156.0    h  1035000.0\n",
       "1        10 Valiant St      2     220.0    h  1097000.0\n",
       "2  138/56 Nicholson St      3    4290.0    u  1090000.0\n",
       "3     200 Nicholson St      2     182.0    h  1012500.0\n",
       "4        27 Charles St      2     172.0    h  1030000.0"
      ]
     },
     "execution_count": 55,
     "metadata": {},
     "output_type": "execute_result"
    }
   ],
   "source": [
    "newcsv.head()"
   ]
  },
  {
   "cell_type": "code",
   "execution_count": 56,
   "metadata": {},
   "outputs": [
    {
     "data": {
      "text/plain": [
       "[['126 Princes St', 2, 217.0, 'House', 1015000.0],\n",
       " ['14 Chusan Ct', 4, 1222.0, 'House', 1063000.0],\n",
       " ['1/22 Ogilvie St', 2, nan, 'House', 1077000.0],\n",
       " ['3/19 Gordon St', 2, nan, 'Unit', 1050000.0],\n",
       " ['19 Ling Ct', 4, 692.0, 'House', 1019500.0]]"
      ]
     },
     "execution_count": 56,
     "metadata": {},
     "output_type": "execute_result"
    }
   ],
   "source": [
    "import random\n",
    "\n",
    "info = list()\n",
    "length = newcsv.shape[0]\n",
    "if length >= 5:\n",
    "    for i in range(5):\n",
    "        idx = random.randint(0, length - 1)\n",
    "        info.append(list(newcsv.loc[idx]))\n",
    "elif length > 0:\n",
    "    for i in range(length):\n",
    "        idx = random.randint(0, length - 1)\n",
    "        info.append(list(newcsv.loc[idx]))\n",
    "    \n",
    "for row in info:\n",
    "    if row[3] == 'h' or row[3] == 'H':\n",
    "        row[3] = 'House'\n",
    "    elif row[3] == 'u' or row[3] == 'U':\n",
    "        row[3] = 'Unit'\n",
    "    elif row[3] == 't' or row[3] == 'T':\n",
    "        row[3] = 'TownHouse'\n",
    "    else:\n",
    "        row[3] = 'Other'\n",
    "\n",
    "info"
   ]
  },
  {
   "cell_type": "code",
   "execution_count": 62,
   "metadata": {},
   "outputs": [
    {
     "name": "stdout",
     "output_type": "stream",
     "text": [
      "Opened database successfully\n",
      "Table created successfully\n",
      "2\n"
     ]
    },
    {
     "data": {
      "text/plain": [
       "False"
      ]
     },
     "execution_count": 62,
     "metadata": {},
     "output_type": "execute_result"
    },
    {
     "data": {
      "text/plain": [
       "True"
      ]
     },
     "execution_count": 62,
     "metadata": {},
     "output_type": "execute_result"
    },
    {
     "data": {
      "text/plain": [
       "False"
      ]
     },
     "execution_count": 62,
     "metadata": {},
     "output_type": "execute_result"
    },
    {
     "name": "stdout",
     "output_type": "stream",
     "text": [
      "new password\n"
     ]
    },
    {
     "data": {
      "text/plain": [
       "False"
      ]
     },
     "execution_count": 62,
     "metadata": {},
     "output_type": "execute_result"
    },
    {
     "data": {
      "text/plain": [
       "True"
      ]
     },
     "execution_count": 62,
     "metadata": {},
     "output_type": "execute_result"
    }
   ],
   "source": [
    "#!/usr/bin/python\n",
    "import sqlite3\n",
    "import hashlib\n",
    "\n",
    "class UserDB():\n",
    "    def __init__(self):\n",
    "        conn = sqlite3.connect('user.sqlite')\n",
    "        print(\"Opened database successfully\")\n",
    "        c = conn.cursor()\n",
    "        c.execute('''CREATE TABLE  IF NOT EXISTS UserInfo\n",
    "               (ID INT PRIMARY KEY     NOT NULL,\n",
    "               USERNAME           TEXT    NOT NULL,\n",
    "               PASSWORD           TEXT     NOT NULL);''')\n",
    "        print(\"Table created successfully\")\n",
    "        \n",
    "        res = c.execute(\"SELECT COUNT(*) FROM UserInfo\")\n",
    "        info = list()\n",
    "        for row in res:\n",
    "            info.append(row)\n",
    "        self.ID = info[0][0]\n",
    "        print(self.ID)\n",
    "        conn.commit()\n",
    "        conn.close()\n",
    "\n",
    "    def insert(self, User, Password):\n",
    "        conn = sqlite3.connect('user.sqlite')\n",
    "        c = conn.cursor()\n",
    "        self.ID += 1\n",
    "        cursor = c.execute(\"SELECT USERNAME, PASSWORD from UserInfo WHERE \\\n",
    "        USERNAME = ?\", (User,))\n",
    "\n",
    "        pwd = hashlib.md5()\n",
    "        pwd.update(Password.encode('utf-8'))\n",
    "        pwd = pwd.hexdigest()\n",
    "\n",
    "        info = list()\n",
    "        for row in cursor:\n",
    "            info.append(row)\n",
    "        if len(info) == 0: # insert\n",
    "            c.execute(\"INSERT INTO UserInfo (ID, USERNAME, PASSWORD) \\\n",
    "              VALUES (?, ?, ?)\", (self.ID, User, pwd));\n",
    "        else:\n",
    "            c.execute(\"UPDATE UserInfo SET PASSWORD = ? WHERE USERNAME = ?\",\n",
    "                      (pwd, User));\n",
    "        conn.commit()\n",
    "        conn.close()\n",
    "\n",
    "    def check(self, User, Password):\n",
    "        conn = sqlite3.connect('user.sqlite')\n",
    "        c = conn.cursor()\n",
    "        cursor = c.execute(\"SELECT USERNAME, PASSWORD from UserInfo WHERE \\\n",
    "        USERNAME = ?\", (User,))\n",
    "        info = list()\n",
    "        for row in cursor:\n",
    "            info.append(row)\n",
    "\n",
    "        if len(info) == 0:\n",
    "            conn.commit()\n",
    "            conn.close()\n",
    "            return False\n",
    "\n",
    "        pwd = hashlib.md5()\n",
    "        pwd.update(Password.encode('utf-8'))\n",
    "        pwd = pwd.hexdigest()\n",
    "        if info[0][1] != pwd:\n",
    "            conn.commit()\n",
    "            conn.close()\n",
    "            return False\n",
    "\n",
    "        conn.commit()\n",
    "        conn.close()\n",
    "        return True\n",
    "\n",
    "if __name__ == '__main__':\n",
    "    userdb = UserDB()\n",
    "    userdb.insert('Xavier', '12345678')\n",
    "    userdb.insert('Eric', '12345678')\n",
    "    userdb.check('Patrick', '12345678')\n",
    "    userdb.insert('Patrick', '12345678')\n",
    "    userdb.check('Patrick', '12345678')\n",
    "    userdb.check('Patrick', 'abcdefg')\n",
    "\n",
    "    print('new password')\n",
    "    userdb.insert('Patrick', 'abcdefg')\n",
    "    userdb.check('Patrick', '12345678')\n",
    "    userdb.check('Patrick', 'abcdefg')\n"
   ]
  }
 ],
 "metadata": {
  "kernelspec": {
   "display_name": "Python 3",
   "language": "python",
   "name": "python3"
  },
  "language_info": {
   "codemirror_mode": {
    "name": "ipython",
    "version": 3
   },
   "file_extension": ".py",
   "mimetype": "text/x-python",
   "name": "python",
   "nbconvert_exporter": "python",
   "pygments_lexer": "ipython3",
   "version": "3.6.3"
  }
 },
 "nbformat": 4,
 "nbformat_minor": 2
}
